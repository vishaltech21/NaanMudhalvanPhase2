# train_model.py
import pandas as pd
from sklearn.model_selection import train_test_split
from sklearn.ensemble import RandomForestRegressor
from sklearn.preprocessing import StandardScaler
import joblib

# Load data
df = pd.read_csv("data/house_data.csv")

# Use only essential features
features = ["OverallQual", "GrLivArea", "GarageCars", "TotalBsmtSF", "FullBath", "YearBuilt", "SalePrice"]
df = df[features].dropna()

X = df.drop("SalePrice", axis=1)
y = df["SalePrice"]

# Scale
scaler = StandardScaler()
X_scaled = scaler.fit_transform(X)

# Split
X_train, X_test, y_train, y_test = train_test_split(X_scaled, y, test_size=0.2, random_state=42)

# Train
model = RandomForestRegressor(n_estimators=100, random_state=42)
model.fit(X_train, y_train)

# Save standard objects only
joblib.dump(model, "model.pkl")
joblib.dump(scaler, "scaler.pkl")
